{
 "cells": [
  {
   "cell_type": "code",
   "execution_count": null,
   "id": "47a39c75-3d9a-40a1-a629-6a1b41dab69e",
   "metadata": {},
   "outputs": [],
   "source": []
  }
 ],
 "metadata": {
  "kernelspec": {
   "display_name": "",
   "name": ""
  },
  "language_info": {
   "name": ""
  }
 },
 "nbformat": 4,
 "nbformat_minor": 5
}
